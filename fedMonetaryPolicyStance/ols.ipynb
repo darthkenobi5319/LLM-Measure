{
 "cells": [
  {
   "cell_type": "markdown",
   "id": "e57a1deb",
   "metadata": {},
   "source": [
    "## Imports."
   ]
  },
  {
   "cell_type": "code",
   "execution_count": 1,
   "id": "b34b70c6",
   "metadata": {},
   "outputs": [],
   "source": [
    "import os\n",
    "os.environ['CUDA_VISIBLE_DEVICES'] = '2,3'\n",
    "import re\n",
    "import json\n",
    "import rdata\n",
    "import torch\n",
    "import random\n",
    "import pickle\n",
    "import datasets\n",
    "import numpy as np\n",
    "import transformers\n",
    "import pandas as pd\n",
    "import seaborn as sns\n",
    "from tqdm import tqdm\n",
    "from scipy import stats\n",
    "from typing import Optional\n",
    "import statsmodels.api as sm\n",
    "from numpy.linalg import norm\n",
    "from llm_measure import measure\n",
    "import matplotlib.pyplot as plt\n",
    "from scipy.stats import wilcoxon\n",
    "from  datasets import load_dataset\n",
    "from readability import Readability\n",
    "from sklearn.decomposition import PCA\n",
    "from nltk.tokenize import sent_tokenize\n",
    "from scipy.stats.mstats import winsorize\n",
    "from dataclasses import dataclass, field\n",
    "from sklearn.preprocessing import MinMaxScaler\n",
    "from sklearn.preprocessing import StandardScaler\n",
    "from transformers import LlamaForCausalLM, LlamaTokenizer\n",
    "from transformers import AutoTokenizer, AutoModelForCausalLM\n",
    "from transformers import AutoModelForCausalLM, BitsAndBytesConfig, HfArgumentParser, TrainingArguments"
   ]
  },
  {
   "cell_type": "markdown",
   "id": "fdfb9a77",
   "metadata": {},
   "source": [
    "## Review data."
   ]
  },
  {
   "cell_type": "code",
   "execution_count": 2,
   "id": "ebe48803",
   "metadata": {},
   "outputs": [],
   "source": [
    "total_df = pd.read_csv('./data/pc_data.csv',index_col=0)\n",
    "all_texts = total_df['sentence'].tolist()\n",
    "probing_texts = total_df['sentence'].tolist()"
   ]
  },
  {
   "cell_type": "markdown",
   "id": "aa8a7080",
   "metadata": {},
   "source": [
    "## OLS."
   ]
  },
  {
   "cell_type": "code",
   "execution_count": 3,
   "id": "628374ec",
   "metadata": {},
   "outputs": [],
   "source": [
    "def ols(df,\n",
    "        out_name, \n",
    "        minus=False, \n",
    "        measure = '10 Yr',\n",
    "        baseline = False\n",
    "       ):\n",
    "    \n",
    "    with open('./results/' + out_name + '_pc.pkl', 'rb') as file: \n",
    "         pc = pickle.load(file) \n",
    "    with open('./results/' + out_name + '_scale.pkl', 'rb') as file: \n",
    "         scaler = pickle.load(file)\n",
    "    with open('./results/' + out_name + '_emd.pkl', 'rb') as file:\n",
    "         embeddings = pickle.load(file)\n",
    "            \n",
    "    direction = pc.components_[0,:]\n",
    "    our_llm_measure = np.dot(embeddings, direction)\n",
    "\n",
    "    our_llm_measure = scaler.fit_transform(our_llm_measure.reshape(-1, 1))\n",
    "    our_llm_measure = our_llm_measure.reshape(-1)\n",
    "    if minus:\n",
    "        our_llm_measure = our_llm_measure *(-1)\n",
    "        \n",
    "\n",
    "\n",
    "    regression_df = df.copy()\n",
    "    regression_df['ours'] = our_llm_measure\n",
    "    regression_df_sub=regression_df.drop_duplicates().reset_index(drop=True)\n",
    "\n",
    "    results = pd.DataFrame(regression_df_sub.groupby('file_path')['ours'].mean())\n",
    "\n",
    "    results['file_path'] = results.index\n",
    "    df_ours = results.reset_index(drop=True)\n",
    "\n",
    "    \n",
    "\n",
    "    master_file_path = \"./data/aggregate_measure_pc.xlsx\"\n",
    "\n",
    "    df_master = pd.read_excel(master_file_path)\n",
    "    df_ours['labeled_data_path'] = df_ours['file_path'].apply(lambda x: '..'+x.split('-main')[1])\n",
    "    df_measure_pc = df_master.merge(df_ours,on='labeled_data_path',how='inner')\n",
    "    df_measure_pc[\"EndDate\"] = pd.to_datetime(df_measure_pc[\"EndDate\"], format='%B/%d/%Y')\n",
    "\n",
    "\n",
    "    df_treasury = pd.read_csv(\"./data/daily-treasury-rates.csv\", usecols=[\"Date\", \"1 Yr\", \"10 Yr\", \"3 Mo\"])\n",
    "    df_treasury['Date'] = df_treasury['Date'].astype('datetime64[ns]')\n",
    "    df_treasury['slope_10_1'] = df_treasury['10 Yr'] - df_treasury['1 Yr']\n",
    "    df_treasury['slope_10y_3m'] = df_treasury['10 Yr'] - df_treasury['3 Mo']\n",
    "    df_treasury = df_treasury.iloc[::-1]\n",
    "\n",
    "\n",
    "    ######################## Treasury Yield Analysis ########################\n",
    "    df_merge = pd.merge(df_measure_pc, df_treasury, left_on=\"EndDate\", right_on=\"Date\", how=\"left\") \n",
    "    df_merge = df_merge.dropna()\n",
    "    \n",
    "    # run OLS\n",
    "    var_x = df_merge[\"ours\"].tolist()\n",
    "    s = StandardScaler()\n",
    "    var_x = s.fit_transform(np.array(var_x).reshape(-1, 1)).reshape(-1)\n",
    "    var_x = sm.add_constant(var_x)\n",
    "    var_y = df_merge[measure].tolist() #\"1 Yr\", \"10 Yr\", \"slope_10_1\", slope_10y_3m, 3 Mo\n",
    "    result = sm.OLS(var_y, var_x).fit()\n",
    "    print(result.summary())    \n",
    "    \n",
    "    #if baseline:\n",
    "    var_x = df_merge[\"our_measure\"].tolist()\n",
    "    s = StandardScaler()\n",
    "    var_x = s.fit_transform(np.array(var_x).reshape(-1, 1)).reshape(-1)      \n",
    "    var_x = sm.add_constant(var_x)\n",
    "    var_y = df_merge[measure].tolist() #\"1 Yr\", \"10 Yr\", \"slope_10_1\", slope_10y_3m, 3 Mo\n",
    "    result = sm.OLS(var_y, var_x).fit()\n",
    "    if baseline:\n",
    "        print(result.summary())\n",
    "\n",
    "    \n",
    "    return df_merge\n",
    "    \n",
    "    \n",
    "    \n",
    " "
   ]
  },
  {
   "cell_type": "markdown",
   "id": "5b3adc75",
   "metadata": {},
   "source": [
    "## Result 1 (main)."
   ]
  },
  {
   "cell_type": "code",
   "execution_count": 4,
   "id": "36646436",
   "metadata": {
    "scrolled": false
   },
   "outputs": [
    {
     "name": "stdout",
     "output_type": "stream",
     "text": [
      "                            OLS Regression Results                            \n",
      "==============================================================================\n",
      "Dep. Variable:                      y   R-squared:                       0.291\n",
      "Model:                            OLS   Adj. R-squared:                  0.279\n",
      "Method:                 Least Squares   F-statistic:                     24.57\n",
      "Date:                Wed, 11 Sep 2024   Prob (F-statistic):           6.19e-06\n",
      "Time:                        22:53:30   Log-Likelihood:                -55.937\n",
      "No. Observations:                  62   AIC:                             115.9\n",
      "Df Residuals:                      60   BIC:                             120.1\n",
      "Df Model:                           1                                         \n",
      "Covariance Type:            nonrobust                                         \n",
      "==============================================================================\n",
      "                 coef    std err          t      P>|t|      [0.025      0.975]\n",
      "------------------------------------------------------------------------------\n",
      "const          2.0542      0.077     26.677      0.000       1.900       2.208\n",
      "x1             0.3817      0.077      4.957      0.000       0.228       0.536\n",
      "==============================================================================\n",
      "Omnibus:                        4.850   Durbin-Watson:                   0.601\n",
      "Prob(Omnibus):                  0.088   Jarque-Bera (JB):                2.302\n",
      "Skew:                           0.157   Prob(JB):                        0.316\n",
      "Kurtosis:                       2.110   Cond. No.                         1.00\n",
      "==============================================================================\n",
      "\n",
      "Notes:\n",
      "[1] Standard Errors assume that the covariance matrix of the errors is correctly specified.\n",
      "                            OLS Regression Results                            \n",
      "==============================================================================\n",
      "Dep. Variable:                      y   R-squared:                       0.127\n",
      "Model:                            OLS   Adj. R-squared:                  0.112\n",
      "Method:                 Least Squares   F-statistic:                     8.698\n",
      "Date:                Wed, 11 Sep 2024   Prob (F-statistic):            0.00453\n",
      "Time:                        22:53:30   Log-Likelihood:                -62.380\n",
      "No. Observations:                  62   AIC:                             128.8\n",
      "Df Residuals:                      60   BIC:                             133.0\n",
      "Df Model:                           1                                         \n",
      "Covariance Type:            nonrobust                                         \n",
      "==============================================================================\n",
      "                 coef    std err          t      P>|t|      [0.025      0.975]\n",
      "------------------------------------------------------------------------------\n",
      "const          2.0542      0.085     24.044      0.000       1.883       2.225\n",
      "x1             0.2520      0.085      2.949      0.005       0.081       0.423\n",
      "==============================================================================\n",
      "Omnibus:                        6.898   Durbin-Watson:                   0.423\n",
      "Prob(Omnibus):                  0.032   Jarque-Bera (JB):                3.399\n",
      "Skew:                          -0.329   Prob(JB):                        0.183\n",
      "Kurtosis:                       2.061   Cond. No.                         1.00\n",
      "==============================================================================\n",
      "\n",
      "Notes:\n",
      "[1] Standard Errors assume that the covariance matrix of the errors is correctly specified.\n"
     ]
    }
   ],
   "source": [
    "_= ols(df=total_df,\n",
    "     out_name = \"fomc_ori_sign\",\n",
    "     minus = False,\n",
    "    baseline = True\n",
    "    )\n"
   ]
  },
  {
   "cell_type": "markdown",
   "id": "cacd5f9e",
   "metadata": {},
   "source": [
    "## Result 2 (definition rephrased)."
   ]
  },
  {
   "cell_type": "code",
   "execution_count": 5,
   "id": "d4d23935",
   "metadata": {
    "scrolled": false
   },
   "outputs": [
    {
     "name": "stdout",
     "output_type": "stream",
     "text": [
      "                            OLS Regression Results                            \n",
      "==============================================================================\n",
      "Dep. Variable:                      y   R-squared:                       0.211\n",
      "Model:                            OLS   Adj. R-squared:                  0.198\n",
      "Method:                 Least Squares   F-statistic:                     16.08\n",
      "Date:                Wed, 11 Sep 2024   Prob (F-statistic):           0.000170\n",
      "Time:                        22:53:32   Log-Likelihood:                -59.215\n",
      "No. Observations:                  62   AIC:                             122.4\n",
      "Df Residuals:                      60   BIC:                             126.7\n",
      "Df Model:                           1                                         \n",
      "Covariance Type:            nonrobust                                         \n",
      "==============================================================================\n",
      "                 coef    std err          t      P>|t|      [0.025      0.975]\n",
      "------------------------------------------------------------------------------\n",
      "const          2.0542      0.081     25.303      0.000       1.892       2.217\n",
      "x1             0.3256      0.081      4.010      0.000       0.163       0.488\n",
      "==============================================================================\n",
      "Omnibus:                        3.600   Durbin-Watson:                   0.496\n",
      "Prob(Omnibus):                  0.165   Jarque-Bera (JB):                1.811\n",
      "Skew:                           0.003   Prob(JB):                        0.404\n",
      "Kurtosis:                       2.163   Cond. No.                         1.00\n",
      "==============================================================================\n",
      "\n",
      "Notes:\n",
      "[1] Standard Errors assume that the covariance matrix of the errors is correctly specified.\n"
     ]
    }
   ],
   "source": [
    "\n",
    "_= ols(df=total_df,\n",
    "     out_name = \"fomc_repharse_def_sign\",\n",
    "     minus = False\n",
    "    )"
   ]
  },
  {
   "cell_type": "markdown",
   "id": "a0458ebf",
   "metadata": {},
   "source": [
    "## Result 3 (instruction rephrased)."
   ]
  },
  {
   "cell_type": "code",
   "execution_count": 6,
   "id": "4474fcf0",
   "metadata": {},
   "outputs": [
    {
     "name": "stdout",
     "output_type": "stream",
     "text": [
      "                            OLS Regression Results                            \n",
      "==============================================================================\n",
      "Dep. Variable:                      y   R-squared:                       0.172\n",
      "Model:                            OLS   Adj. R-squared:                  0.159\n",
      "Method:                 Least Squares   F-statistic:                     12.49\n",
      "Date:                Wed, 11 Sep 2024   Prob (F-statistic):           0.000793\n",
      "Time:                        22:53:33   Log-Likelihood:                -60.713\n",
      "No. Observations:                  62   AIC:                             125.4\n",
      "Df Residuals:                      60   BIC:                             129.7\n",
      "Df Model:                           1                                         \n",
      "Covariance Type:            nonrobust                                         \n",
      "==============================================================================\n",
      "                 coef    std err          t      P>|t|      [0.025      0.975]\n",
      "------------------------------------------------------------------------------\n",
      "const          2.0542      0.083     24.699      0.000       1.888       2.221\n",
      "x1             0.2940      0.083      3.535      0.001       0.128       0.460\n",
      "==============================================================================\n",
      "Omnibus:                        2.611   Durbin-Watson:                   0.463\n",
      "Prob(Omnibus):                  0.271   Jarque-Bera (JB):                1.951\n",
      "Skew:                          -0.264   Prob(JB):                        0.377\n",
      "Kurtosis:                       2.310   Cond. No.                         1.00\n",
      "==============================================================================\n",
      "\n",
      "Notes:\n",
      "[1] Standard Errors assume that the covariance matrix of the errors is correctly specified.\n"
     ]
    }
   ],
   "source": [
    "\n",
    "_= ols(df=total_df,\n",
    "     out_name = \"fomc_rephrase_inst_sign\",\n",
    "     minus = False\n",
    "    )"
   ]
  },
  {
   "cell_type": "markdown",
   "id": "3d2bcc8b",
   "metadata": {},
   "source": [
    "## Result 4 (probing size 128)."
   ]
  },
  {
   "cell_type": "code",
   "execution_count": 7,
   "id": "f1e42850",
   "metadata": {},
   "outputs": [
    {
     "name": "stdout",
     "output_type": "stream",
     "text": [
      "                            OLS Regression Results                            \n",
      "==============================================================================\n",
      "Dep. Variable:                      y   R-squared:                       0.290\n",
      "Model:                            OLS   Adj. R-squared:                  0.278\n",
      "Method:                 Least Squares   F-statistic:                     24.48\n",
      "Date:                Wed, 11 Sep 2024   Prob (F-statistic):           6.40e-06\n",
      "Time:                        22:53:34   Log-Likelihood:                -55.970\n",
      "No. Observations:                  62   AIC:                             115.9\n",
      "Df Residuals:                      60   BIC:                             120.2\n",
      "Df Model:                           1                                         \n",
      "Covariance Type:            nonrobust                                         \n",
      "==============================================================================\n",
      "                 coef    std err          t      P>|t|      [0.025      0.975]\n",
      "------------------------------------------------------------------------------\n",
      "const          2.0542      0.077     26.662      0.000       1.900       2.208\n",
      "x1             0.3812      0.077      4.948      0.000       0.227       0.535\n",
      "==============================================================================\n",
      "Omnibus:                        4.692   Durbin-Watson:                   0.586\n",
      "Prob(Omnibus):                  0.096   Jarque-Bera (JB):                2.286\n",
      "Skew:                           0.166   Prob(JB):                        0.319\n",
      "Kurtosis:                       2.120   Cond. No.                         1.00\n",
      "==============================================================================\n",
      "\n",
      "Notes:\n",
      "[1] Standard Errors assume that the covariance matrix of the errors is correctly specified.\n"
     ]
    }
   ],
   "source": [
    "\n",
    "_= ols(df=total_df,\n",
    "     out_name = \"fomc_sample_sign\",\n",
    "     minus = False\n",
    "    )"
   ]
  },
  {
   "cell_type": "code",
   "execution_count": null,
   "id": "64af62ad",
   "metadata": {},
   "outputs": [],
   "source": []
  }
 ],
 "metadata": {
  "kernelspec": {
   "display_name": "Python 3 (ipykernel)",
   "language": "python",
   "name": "python3"
  },
  "language_info": {
   "codemirror_mode": {
    "name": "ipython",
    "version": 3
   },
   "file_extension": ".py",
   "mimetype": "text/x-python",
   "name": "python",
   "nbconvert_exporter": "python",
   "pygments_lexer": "ipython3",
   "version": "3.9.13"
  }
 },
 "nbformat": 4,
 "nbformat_minor": 5
}
