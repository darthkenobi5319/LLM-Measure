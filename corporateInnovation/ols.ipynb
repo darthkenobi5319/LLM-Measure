{
 "cells": [
  {
   "cell_type": "markdown",
   "id": "e57a1deb",
   "metadata": {},
   "source": [
    "## Imports."
   ]
  },
  {
   "cell_type": "code",
   "execution_count": 1,
   "id": "b34b70c6",
   "metadata": {},
   "outputs": [],
   "source": [
    "import os\n",
    "os.environ['CUDA_VISIBLE_DEVICES'] = '2,3'\n",
    "import re\n",
    "import json\n",
    "import rdata\n",
    "import torch\n",
    "import random\n",
    "import pickle\n",
    "import datasets\n",
    "import numpy as np\n",
    "import transformers\n",
    "import pandas as pd\n",
    "import seaborn as sns\n",
    "from tqdm import tqdm\n",
    "from scipy import stats\n",
    "from typing import Optional\n",
    "import statsmodels.api as sm\n",
    "from numpy.linalg import norm\n",
    "from llm_measure import measure\n",
    "import matplotlib.pyplot as plt\n",
    "from scipy.stats import wilcoxon\n",
    "from  datasets import load_dataset\n",
    "from readability import Readability\n",
    "from sklearn.decomposition import PCA\n",
    "from nltk.tokenize import sent_tokenize\n",
    "from scipy.stats.mstats import winsorize\n",
    "from dataclasses import dataclass, field\n",
    "from sklearn.preprocessing import MinMaxScaler\n",
    "from sklearn.preprocessing import StandardScaler\n",
    "from transformers import LlamaForCausalLM, LlamaTokenizer\n",
    "from transformers import AutoTokenizer, AutoModelForCausalLM\n",
    "from transformers import AutoModelForCausalLM, BitsAndBytesConfig, HfArgumentParser, TrainingArguments\n",
    "import warnings\n",
    "warnings.filterwarnings(\"ignore\")"
   ]
  },
  {
   "cell_type": "markdown",
   "id": "fdfb9a77",
   "metadata": {},
   "source": [
    "## Review data."
   ]
  },
  {
   "cell_type": "code",
   "execution_count": 2,
   "id": "ebe48803",
   "metadata": {},
   "outputs": [],
   "source": [
    "total_df = pd.read_csv('./data/index_matching_fiveyears.csv',index_col=0)\n",
    "all_texts = total_df['qa_text'].tolist()\n",
    "probing_texts = total_df['qa_text'].tolist()\n",
    "\n",
    "global chosen_list\n",
    "chosen_list = np.load('./data/chosen_list.npy').tolist()"
   ]
  },
  {
   "cell_type": "markdown",
   "id": "aa8a7080",
   "metadata": {},
   "source": [
    "## OLS."
   ]
  },
  {
   "cell_type": "code",
   "execution_count": 3,
   "id": "628374ec",
   "metadata": {},
   "outputs": [],
   "source": [
    "def ols(df, out_name, minus = False, baseline = False):\n",
    "    with open('./results/' + out_name + '_pc.pkl', 'rb') as file: \n",
    "         pc = pickle.load(file) \n",
    "    with open('./results/' + out_name + '_scale.pkl', 'rb') as file: \n",
    "         scaler = pickle.load(file)\n",
    "    with open('./results/' + out_name + '_emd.pkl', 'rb') as file:\n",
    "         embeddings = pickle.load(file)\n",
    "\n",
    "\n",
    "\n",
    "    direction = pc.components_[0,:]\n",
    "    our_llm_measure = np.dot(embeddings, direction)\n",
    "    our_llm_measure = scaler.fit_transform(our_llm_measure.reshape(-1, 1))\n",
    "    our_llm_measure = our_llm_measure.reshape(-1)\n",
    "\n",
    "    if minus:\n",
    "        our_llm_measure = our_llm_measure*(-1)\n",
    "\n",
    "\n",
    "    regression_df = df.copy()\n",
    "    regression_df['ours'] = our_llm_measure    \n",
    "\n",
    "    regression_df = regression_df.iloc[chosen_list,:].reset_index(drop=True)\n",
    "    regression_df_sub=regression_df.drop_duplicates().reset_index(drop=True)\n",
    "\n",
    "    results = pd.DataFrame(regression_df_sub.groupby(['ticker','year'])['ours'].mean())\n",
    "\n",
    "    results['ticker'] = results.index\n",
    "    results = results.reset_index(drop=True)\n",
    "\n",
    "    results['tic'] = results['ticker'].apply(lambda x:x[0])\n",
    "    results['year'] = results['ticker'].apply(lambda x:x[1])\n",
    "\n",
    "    results_innovation = results.drop('ticker', axis=1)\n",
    "    results_innovation['year'] = results_innovation['year'].apply(lambda x:int(x))\n",
    "    #######################################################################################\n",
    "\n",
    "    results_innovation_2018 = results_innovation[results_innovation['year'].isin([2016,2017,2018])].groupby('tic').mean()\n",
    "    results_innovation_2018['tic'] = results_innovation_2018.index\n",
    "    results_innovation_2018 = results_innovation_2018.reset_index(drop=True)\n",
    "    results_innovation_2018['year'] = [2018 for _ in range(results_innovation_2018.shape[0])]\n",
    "\n",
    "\n",
    "    results_innovation_2019 = results_innovation[results_innovation['year'].isin([2017,2018,2019])].groupby('tic').mean()\n",
    "    results_innovation_2019['tic'] = results_innovation_2019.index\n",
    "    results_innovation_2019 = results_innovation_2019.reset_index(drop=True)\n",
    "    results_innovation_2019['year'] = [2019 for _ in range(results_innovation_2019.shape[0])]\n",
    "\n",
    "\n",
    "    results_innovation_2020 = results_innovation[results_innovation['year'].isin([2018,2019,2020])].groupby('tic').mean()\n",
    "    results_innovation_2020['tic'] = results_innovation_2020.index\n",
    "    results_innovation_2020 = results_innovation_2020.reset_index(drop=True)\n",
    "    results_innovation_2020['year'] = [2020 for _ in range(results_innovation_2020.shape[0])]\n",
    "\n",
    "    results_innovation_new = pd.concat([results_innovation_2018,results_innovation_2019]).reset_index(drop=True)\n",
    "    results_innovation_new = pd.concat([results_innovation_new,results_innovation_2020]).reset_index(drop=True)\n",
    "    results_innovation = results_innovation_new\n",
    "    #######################################################################################\n",
    "\n",
    "\n",
    "    culture_label = pd.read_csv('./data/culture_label.csv')\n",
    "    culture_label['gvkey'] = culture_label['GVKEY']\n",
    "    culture_label['year'] = culture_label['Year']#+1\n",
    "    \n",
    "    gvkey_tic = pd.read_csv('./data/gvkey_ticker.csv')\n",
    "    gvkey_tic = gvkey_tic[['gvkey','tic','fyear']].drop_duplicates().reset_index(drop=True)\n",
    "    gvkey_tic['year'] = gvkey_tic['fyear']\n",
    "\n",
    "\n",
    "\n",
    "    results_innovation  = results_innovation.iloc[:,:3]\n",
    "    results_innovation = results_innovation.merge(gvkey_tic,on=['tic','year'],how='inner')\n",
    "    results = results_innovation.merge(culture_label,on=['gvkey','year'],how='inner')\n",
    "\n",
    "\n",
    "    RD = pd.read_csv('./data/RD_all.csv')\n",
    "    RD = RD.dropna(subset = ['gvkey','fyear','at']).reset_index(drop=True)\n",
    "    RD['year'] = RD['fyear']\n",
    "    RD['size'] = np.log(RD['at'])\n",
    "\n",
    "    RD1 = RD.copy()\n",
    "    RD1 = RD1.dropna().reset_index(drop=True)\n",
    "    RD1['rd/asset'] = RD1['xrd']/RD1['at']\n",
    "    RD1 = RD1[['gvkey','rd/asset','year','size']]\n",
    "    results_RD = results.merge(RD1,on=['year','gvkey'],how='inner')\n",
    "\n",
    "    s = StandardScaler()\n",
    "    results_RD['ours'] = s.fit_transform(np.array(results_RD['ours']).reshape(-1, 1)).reshape(-1)\n",
    "    s = StandardScaler()\n",
    "    results_RD['s_innovation'] = s.fit_transform(np.array(results_RD['s_innovation']).reshape(-1, 1)).reshape(-1)\n",
    "    \n",
    "    #define predictor and response variables\n",
    "    x = results_RD[['ours','size']]\n",
    "    y = results_RD['rd/asset']\n",
    "    \n",
    "    #add constant to predictor variables\n",
    "    x = sm.add_constant(x)\n",
    "\n",
    "    #fit linear regression model\n",
    "    ols_model = sm.OLS(y, x).fit()\n",
    "\n",
    "    #view model summary\n",
    "    print(ols_model.summary())\n",
    "\n",
    "    #define predictor and response variables\n",
    "    x = results_RD[['s_innovation','size']]\n",
    "    y = results_RD['rd/asset']\n",
    "    \n",
    "    #add constant to predictor variables\n",
    "    x = sm.add_constant(x)\n",
    "\n",
    "    #fit linear regression model\n",
    "    ols_model = sm.OLS(y, x).fit()\n",
    "\n",
    "    #view model summary\n",
    "    if baseline:\n",
    "        print(ols_model.summary())\n",
    "    \n",
    "    #return results_RD['ours']\n",
    "    return results_RD"
   ]
  },
  {
   "cell_type": "markdown",
   "id": "5b3adc75",
   "metadata": {},
   "source": [
    "## Result 1 (main)."
   ]
  },
  {
   "cell_type": "code",
   "execution_count": 4,
   "id": "36646436",
   "metadata": {
    "scrolled": false
   },
   "outputs": [
    {
     "name": "stdout",
     "output_type": "stream",
     "text": [
      "                            OLS Regression Results                            \n",
      "==============================================================================\n",
      "Dep. Variable:               rd/asset   R-squared:                       0.140\n",
      "Model:                            OLS   Adj. R-squared:                  0.140\n",
      "Method:                 Least Squares   F-statistic:                     426.9\n",
      "Date:                Thu, 12 Sep 2024   Prob (F-statistic):          1.81e-172\n",
      "Time:                        00:50:51   Log-Likelihood:                 422.50\n",
      "No. Observations:                5237   AIC:                            -839.0\n",
      "Df Residuals:                    5234   BIC:                            -819.3\n",
      "Df Model:                           2                                         \n",
      "Covariance Type:            nonrobust                                         \n",
      "==============================================================================\n",
      "                 coef    std err          t      P>|t|      [0.025      0.975]\n",
      "------------------------------------------------------------------------------\n",
      "const          0.3780      0.011     35.263      0.000       0.357       0.399\n",
      "ours           0.0313      0.003     10.152      0.000       0.025       0.037\n",
      "size          -0.0394      0.001    -27.453      0.000      -0.042      -0.037\n",
      "==============================================================================\n",
      "Omnibus:                    13061.224   Durbin-Watson:                   2.003\n",
      "Prob(Omnibus):                  0.000   Jarque-Bera (JB):        272741000.503\n",
      "Skew:                          26.677   Prob(JB):                         0.00\n",
      "Kurtosis:                    1119.720   Cond. No.                         26.4\n",
      "==============================================================================\n",
      "\n",
      "Notes:\n",
      "[1] Standard Errors assume that the covariance matrix of the errors is correctly specified.\n",
      "                            OLS Regression Results                            \n",
      "==============================================================================\n",
      "Dep. Variable:               rd/asset   R-squared:                       0.125\n",
      "Model:                            OLS   Adj. R-squared:                  0.125\n",
      "Method:                 Least Squares   F-statistic:                     373.9\n",
      "Date:                Thu, 12 Sep 2024   Prob (F-statistic):          1.62e-152\n",
      "Time:                        00:50:51   Log-Likelihood:                 376.53\n",
      "No. Observations:                5237   AIC:                            -747.1\n",
      "Df Residuals:                    5234   BIC:                            -727.4\n",
      "Df Model:                           2                                         \n",
      "Covariance Type:            nonrobust                                         \n",
      "================================================================================\n",
      "                   coef    std err          t      P>|t|      [0.025      0.975]\n",
      "--------------------------------------------------------------------------------\n",
      "const            0.3782      0.011     34.966      0.000       0.357       0.399\n",
      "s_innovation     0.0099      0.003      3.193      0.001       0.004       0.016\n",
      "size            -0.0395      0.001    -27.226      0.000      -0.042      -0.037\n",
      "==============================================================================\n",
      "Omnibus:                    12951.658   Durbin-Watson:                   2.009\n",
      "Prob(Omnibus):                  0.000   Jarque-Bera (JB):        257212108.276\n",
      "Skew:                          26.120   Prob(JB):                         0.00\n",
      "Kurtosis:                    1087.443   Cond. No.                         26.4\n",
      "==============================================================================\n",
      "\n",
      "Notes:\n",
      "[1] Standard Errors assume that the covariance matrix of the errors is correctly specified.\n"
     ]
    }
   ],
   "source": [
    "result_RD= ols(df=total_df,\n",
    "     out_name = \"innovation_ori_sign\",\n",
    "     minus = False,\n",
    "    baseline = True\n",
    "    )\n"
   ]
  },
  {
   "cell_type": "markdown",
   "id": "cacd5f9e",
   "metadata": {},
   "source": [
    "## Result 2 (definition rephrased)."
   ]
  },
  {
   "cell_type": "code",
   "execution_count": 5,
   "id": "d4d23935",
   "metadata": {
    "scrolled": false
   },
   "outputs": [
    {
     "name": "stdout",
     "output_type": "stream",
     "text": [
      "                            OLS Regression Results                            \n",
      "==============================================================================\n",
      "Dep. Variable:               rd/asset   R-squared:                       0.139\n",
      "Model:                            OLS   Adj. R-squared:                  0.138\n",
      "Method:                 Least Squares   F-statistic:                     421.1\n",
      "Date:                Thu, 12 Sep 2024   Prob (F-statistic):          2.54e-170\n",
      "Time:                        00:50:55   Log-Likelihood:                 417.55\n",
      "No. Observations:                5237   AIC:                            -829.1\n",
      "Df Residuals:                    5234   BIC:                            -809.4\n",
      "Df Model:                           2                                         \n",
      "Covariance Type:            nonrobust                                         \n",
      "==============================================================================\n",
      "                 coef    std err          t      P>|t|      [0.025      0.975]\n",
      "------------------------------------------------------------------------------\n",
      "const          0.3798      0.011     35.387      0.000       0.359       0.401\n",
      "ours           0.0298      0.003      9.643      0.000       0.024       0.036\n",
      "size          -0.0397      0.001    -27.593      0.000      -0.043      -0.037\n",
      "==============================================================================\n",
      "Omnibus:                    13055.292   Durbin-Watson:                   2.005\n",
      "Prob(Omnibus):                  0.000   Jarque-Bera (JB):        271850009.980\n",
      "Skew:                          26.647   Prob(JB):                         0.00\n",
      "Kurtosis:                    1117.894   Cond. No.                         26.4\n",
      "==============================================================================\n",
      "\n",
      "Notes:\n",
      "[1] Standard Errors assume that the covariance matrix of the errors is correctly specified.\n"
     ]
    }
   ],
   "source": [
    "\n",
    "_= ols(df=total_df,\n",
    "     out_name = \"innovation_repharse_def_sign\",\n",
    "     minus = False\n",
    "    )"
   ]
  },
  {
   "cell_type": "markdown",
   "id": "a0458ebf",
   "metadata": {},
   "source": [
    "## Result 3 (instruction rephrased)."
   ]
  },
  {
   "cell_type": "code",
   "execution_count": 6,
   "id": "4474fcf0",
   "metadata": {},
   "outputs": [
    {
     "name": "stdout",
     "output_type": "stream",
     "text": [
      "                            OLS Regression Results                            \n",
      "==============================================================================\n",
      "Dep. Variable:               rd/asset   R-squared:                       0.131\n",
      "Model:                            OLS   Adj. R-squared:                  0.131\n",
      "Method:                 Least Squares   F-statistic:                     395.1\n",
      "Date:                Thu, 12 Sep 2024   Prob (F-statistic):          1.59e-160\n",
      "Time:                        00:50:59   Log-Likelihood:                 394.98\n",
      "No. Observations:                5237   AIC:                            -784.0\n",
      "Df Residuals:                    5234   BIC:                            -764.3\n",
      "Df Model:                           2                                         \n",
      "Covariance Type:            nonrobust                                         \n",
      "==============================================================================\n",
      "                 coef    std err          t      P>|t|      [0.025      0.975]\n",
      "------------------------------------------------------------------------------\n",
      "const          0.3839      0.011     35.494      0.000       0.363       0.405\n",
      "ours           0.0214      0.003      6.875      0.000       0.015       0.028\n",
      "size          -0.0403      0.001    -27.769      0.000      -0.043      -0.037\n",
      "==============================================================================\n",
      "Omnibus:                    12996.723   Durbin-Watson:                   2.009\n",
      "Prob(Omnibus):                  0.000   Jarque-Bera (JB):        263350072.629\n",
      "Skew:                          26.348   Prob(JB):                         0.00\n",
      "Kurtosis:                    1100.314   Cond. No.                         26.5\n",
      "==============================================================================\n",
      "\n",
      "Notes:\n",
      "[1] Standard Errors assume that the covariance matrix of the errors is correctly specified.\n"
     ]
    }
   ],
   "source": [
    "\n",
    "_= ols(df=total_df,\n",
    "     out_name = \"innovation_repharse_inst_sign\",\n",
    "     minus = True\n",
    "    )"
   ]
  },
  {
   "cell_type": "markdown",
   "id": "3d2bcc8b",
   "metadata": {},
   "source": [
    "## Result 4 (probing size 128)."
   ]
  },
  {
   "cell_type": "code",
   "execution_count": 7,
   "id": "f1e42850",
   "metadata": {},
   "outputs": [
    {
     "name": "stdout",
     "output_type": "stream",
     "text": [
      "                            OLS Regression Results                            \n",
      "==============================================================================\n",
      "Dep. Variable:               rd/asset   R-squared:                       0.145\n",
      "Model:                            OLS   Adj. R-squared:                  0.144\n",
      "Method:                 Least Squares   F-statistic:                     443.1\n",
      "Date:                Thu, 12 Sep 2024   Prob (F-statistic):          1.66e-178\n",
      "Time:                        00:51:02   Log-Likelihood:                 436.41\n",
      "No. Observations:                5237   AIC:                            -866.8\n",
      "Df Residuals:                    5234   BIC:                            -847.1\n",
      "Df Model:                           2                                         \n",
      "Covariance Type:            nonrobust                                         \n",
      "==============================================================================\n",
      "                 coef    std err          t      P>|t|      [0.025      0.975]\n",
      "------------------------------------------------------------------------------\n",
      "const          0.3772      0.011     35.283      0.000       0.356       0.398\n",
      "ours           0.0353      0.003     11.467      0.000       0.029       0.041\n",
      "size          -0.0393      0.001    -27.448      0.000      -0.042      -0.037\n",
      "==============================================================================\n",
      "Omnibus:                    13087.140   Durbin-Watson:                   2.002\n",
      "Prob(Omnibus):                  0.000   Jarque-Bera (JB):        276571854.930\n",
      "Skew:                          26.810   Prob(JB):                         0.00\n",
      "Kurtosis:                    1127.541   Cond. No.                         26.4\n",
      "==============================================================================\n",
      "\n",
      "Notes:\n",
      "[1] Standard Errors assume that the covariance matrix of the errors is correctly specified.\n"
     ]
    }
   ],
   "source": [
    "\n",
    "_= ols(df=total_df,\n",
    "     out_name = \"innovation_sample_sign\",\n",
    "     minus = True\n",
    "    )"
   ]
  },
  {
   "cell_type": "code",
   "execution_count": null,
   "id": "64af62ad",
   "metadata": {},
   "outputs": [],
   "source": []
  }
 ],
 "metadata": {
  "kernelspec": {
   "display_name": "Python 3 (ipykernel)",
   "language": "python",
   "name": "python3"
  },
  "language_info": {
   "codemirror_mode": {
    "name": "ipython",
    "version": 3
   },
   "file_extension": ".py",
   "mimetype": "text/x-python",
   "name": "python",
   "nbconvert_exporter": "python",
   "pygments_lexer": "ipython3",
   "version": "3.9.13"
  }
 },
 "nbformat": 4,
 "nbformat_minor": 5
}
