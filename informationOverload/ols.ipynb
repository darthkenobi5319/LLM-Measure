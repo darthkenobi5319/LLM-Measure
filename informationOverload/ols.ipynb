{
 "cells": [
  {
   "cell_type": "markdown",
   "id": "e57a1deb",
   "metadata": {},
   "source": [
    "## Imports."
   ]
  },
  {
   "cell_type": "code",
   "execution_count": 4,
   "id": "b34b70c6",
   "metadata": {},
   "outputs": [],
   "source": [
    "import os\n",
    "os.environ['CUDA_VISIBLE_DEVICES'] = '2,3'\n",
    "import re\n",
    "import json\n",
    "import rdata\n",
    "import torch\n",
    "import random\n",
    "import pickle\n",
    "import datasets\n",
    "import numpy as np\n",
    "import transformers\n",
    "import pandas as pd\n",
    "import seaborn as sns\n",
    "from tqdm import tqdm\n",
    "from scipy import stats\n",
    "from typing import Optional\n",
    "import statsmodels.api as sm\n",
    "from numpy.linalg import norm\n",
    "from llm_measure import measure\n",
    "import matplotlib.pyplot as plt\n",
    "from scipy.stats import wilcoxon\n",
    "from  datasets import load_dataset\n",
    "from readability import Readability\n",
    "from sklearn.decomposition import PCA\n",
    "from nltk.tokenize import sent_tokenize\n",
    "from scipy.stats.mstats import winsorize\n",
    "from dataclasses import dataclass, field\n",
    "from sklearn.preprocessing import MinMaxScaler\n",
    "from sklearn.preprocessing import StandardScaler\n",
    "from transformers import LlamaForCausalLM, LlamaTokenizer\n",
    "from transformers import AutoTokenizer, AutoModelForCausalLM\n",
    "from transformers import AutoModelForCausalLM, BitsAndBytesConfig, HfArgumentParser, TrainingArguments"
   ]
  },
  {
   "cell_type": "markdown",
   "id": "fdfb9a77",
   "metadata": {},
   "source": [
    "## Review data."
   ]
  },
  {
   "cell_type": "code",
   "execution_count": 5,
   "id": "ebe48803",
   "metadata": {},
   "outputs": [],
   "source": [
    "with open('./data/review_total.pkl', 'rb') as file: \n",
    "    total_df = pickle.load(file) \n",
    "all_texts = total_df['review'].tolist()\n",
    "probing_texts = total_df['review'].tolist()"
   ]
  },
  {
   "cell_type": "markdown",
   "id": "aa8a7080",
   "metadata": {},
   "source": [
    "## OLS."
   ]
  },
  {
   "cell_type": "code",
   "execution_count": 6,
   "id": "628374ec",
   "metadata": {},
   "outputs": [],
   "source": [
    "def ols(df,\n",
    "        out_name, \n",
    "        model_name, \n",
    "        probing_size,\n",
    "        lda=False,\n",
    "       ):\n",
    "    with open('./results/' + out_name + f\"_{model_name}\" + f\"_probingSize-{probing_size}\" + '_pc.pkl', 'rb') as file: \n",
    "         pc = pickle.load(file) \n",
    "    with open('./results/' + out_name + f\"_{model_name}\" + f\"_probingSize-{probing_size}\" + '_scale.pkl', 'rb') as file: \n",
    "         scaler = pickle.load(file)\n",
    "    with open('./results/' + out_name + f\"_{model_name}\" + f\"_probingSize-{probing_size}\" + '_emd.pkl', 'rb') as file:\n",
    "         embeddings = pickle.load(file)\n",
    "            \n",
    "    direction = -pc.components_[0,:]\n",
    "    our_llm_measure = np.dot(embeddings, direction)\n",
    "    our_llm_measure_for_return = our_llm_measure.copy()\n",
    "    \n",
    "    scaler_2 = StandardScaler()\n",
    "    our_llm_measure = scaler_2.fit_transform(our_llm_measure.reshape(-1, 1))\n",
    "    our_llm_measure = our_llm_measure.reshape(-1)    \n",
    "\n",
    "    regression_df = df.copy()\n",
    "    regression_df['ours'] = our_llm_measure\n",
    "\n",
    "    ####################### LLM-Measure ########################\n",
    "    var_x = regression_df[['log_num_words', 'ours', 'binary_rating']]\n",
    "    var_x = sm.add_constant(var_x)\n",
    "    var_y = regression_df[\"log_helpfulness\"]\n",
    "    \n",
    "    result = sm.OLS(var_y, var_x).fit()\n",
    "    print(result.summary())\n",
    "    \n",
    "    \n",
    "    ####################### LDA ########################    \n",
    "    topicEntropy_LDA_standardized_for_return = regression_df['topicEntropy_LDA'].copy()   \n",
    "    scaler_2 = StandardScaler()\n",
    "    topicEntropy_LDA_standardized = scaler_2.fit_transform(np.array(regression_df['topicEntropy_LDA']).reshape(-1, 1))\n",
    "    topicEntropy_LDA_standardized = topicEntropy_LDA_standardized.reshape(-1) \n",
    "    \n",
    "    regression_df['topicEntropy_LDA_standardized'] = topicEntropy_LDA_standardized\n",
    "    var_x = regression_df[['log_num_words', 'topicEntropy_LDA_standardized', 'binary_rating']]\n",
    "    var_x = sm.add_constant(var_x)\n",
    "    var_y = regression_df[\"log_helpfulness\"]\n",
    "    result = sm.OLS(var_y, var_x).fit()\n",
    "    if lda:\n",
    "        print(result.summary())   \n",
    "    return our_llm_measure_for_return, topicEntropy_LDA_standardized_for_return, direction"
   ]
  },
  {
   "cell_type": "markdown",
   "id": "5b3adc75",
   "metadata": {},
   "source": [
    "## Result 1 (main)."
   ]
  },
  {
   "cell_type": "code",
   "execution_count": 7,
   "id": "36646436",
   "metadata": {
    "scrolled": false
   },
   "outputs": [
    {
     "name": "stdout",
     "output_type": "stream",
     "text": [
      "                            OLS Regression Results                            \n",
      "==============================================================================\n",
      "Dep. Variable:        log_helpfulness   R-squared:                       0.065\n",
      "Model:                            OLS   Adj. R-squared:                  0.065\n",
      "Method:                 Least Squares   F-statistic:                     232.4\n",
      "Date:                Mon, 09 Sep 2024   Prob (F-statistic):          9.39e-146\n",
      "Time:                        19:07:09   Log-Likelihood:                -9771.7\n",
      "No. Observations:               10000   AIC:                         1.955e+04\n",
      "Df Residuals:                    9996   BIC:                         1.958e+04\n",
      "Df Model:                           3                                         \n",
      "Covariance Type:            nonrobust                                         \n",
      "=================================================================================\n",
      "                    coef    std err          t      P>|t|      [0.025      0.975]\n",
      "---------------------------------------------------------------------------------\n",
      "const            -0.4538      0.050     -9.078      0.000      -0.552      -0.356\n",
      "log_num_words     0.2258      0.010     22.559      0.000       0.206       0.245\n",
      "ours             -0.0441      0.008     -5.696      0.000      -0.059      -0.029\n",
      "binary_rating    -0.1319      0.015     -8.638      0.000      -0.162      -0.102\n",
      "==============================================================================\n",
      "Omnibus:                     1718.897   Durbin-Watson:                   1.998\n",
      "Prob(Omnibus):                  0.000   Jarque-Bera (JB):             2843.879\n",
      "Skew:                           1.156   Prob(JB):                         0.00\n",
      "Kurtosis:                       4.218   Cond. No.                         39.6\n",
      "==============================================================================\n",
      "\n",
      "Notes:\n",
      "[1] Standard Errors assume that the covariance matrix of the errors is correctly specified.\n",
      "                            OLS Regression Results                            \n",
      "==============================================================================\n",
      "Dep. Variable:        log_helpfulness   R-squared:                       0.063\n",
      "Model:                            OLS   Adj. R-squared:                  0.062\n",
      "Method:                 Least Squares   F-statistic:                     223.2\n",
      "Date:                Mon, 09 Sep 2024   Prob (F-statistic):          3.84e-140\n",
      "Time:                        19:07:09   Log-Likelihood:                -9784.6\n",
      "No. Observations:               10000   AIC:                         1.958e+04\n",
      "Df Residuals:                    9996   BIC:                         1.961e+04\n",
      "Df Model:                           3                                         \n",
      "Covariance Type:            nonrobust                                         \n",
      "=================================================================================================\n",
      "                                    coef    std err          t      P>|t|      [0.025      0.975]\n",
      "-------------------------------------------------------------------------------------------------\n",
      "const                            -0.3759      0.049     -7.727      0.000      -0.471      -0.281\n",
      "log_num_words                     0.2066      0.009     21.881      0.000       0.188       0.225\n",
      "topicEntropy_LDA_standardized    -0.0180      0.007     -2.553      0.011      -0.032      -0.004\n",
      "binary_rating                    -0.1134      0.015     -7.562      0.000      -0.143      -0.084\n",
      "==============================================================================\n",
      "Omnibus:                     1724.594   Durbin-Watson:                   1.997\n",
      "Prob(Omnibus):                  0.000   Jarque-Bera (JB):             2855.714\n",
      "Skew:                           1.159   Prob(JB):                         0.00\n",
      "Kurtosis:                       4.217   Cond. No.                         38.6\n",
      "==============================================================================\n",
      "\n",
      "Notes:\n",
      "[1] Standard Errors assume that the covariance matrix of the errors is correctly specified.\n"
     ]
    }
   ],
   "source": [
    "_, _, _ = ols(df=total_df,\n",
    "             out_name = \"original-signed\",\n",
    "             model_name = \"Llama-2-13b-chat-hf\",\n",
    "             probing_size = 64,\n",
    "             lda = True,\n",
    "            )"
   ]
  },
  {
   "cell_type": "markdown",
   "id": "cacd5f9e",
   "metadata": {},
   "source": [
    "## Result 2 (definition rephrased)."
   ]
  },
  {
   "cell_type": "code",
   "execution_count": 8,
   "id": "d4d23935",
   "metadata": {
    "scrolled": false
   },
   "outputs": [
    {
     "name": "stdout",
     "output_type": "stream",
     "text": [
      "                            OLS Regression Results                            \n",
      "==============================================================================\n",
      "Dep. Variable:        log_helpfulness   R-squared:                       0.065\n",
      "Model:                            OLS   Adj. R-squared:                  0.065\n",
      "Method:                 Least Squares   F-statistic:                     232.1\n",
      "Date:                Mon, 09 Sep 2024   Prob (F-statistic):          1.48e-145\n",
      "Time:                        19:07:11   Log-Likelihood:                -9772.1\n",
      "No. Observations:               10000   AIC:                         1.955e+04\n",
      "Df Residuals:                    9996   BIC:                         1.958e+04\n",
      "Df Model:                           3                                         \n",
      "Covariance Type:            nonrobust                                         \n",
      "=================================================================================\n",
      "                    coef    std err          t      P>|t|      [0.025      0.975]\n",
      "---------------------------------------------------------------------------------\n",
      "const            -0.4302      0.048     -8.887      0.000      -0.525      -0.335\n",
      "log_num_words     0.2199      0.010     23.034      0.000       0.201       0.239\n",
      "ours             -0.0407      0.007     -5.615      0.000      -0.055      -0.027\n",
      "binary_rating    -0.1253      0.015     -8.308      0.000      -0.155      -0.096\n",
      "==============================================================================\n",
      "Omnibus:                     1718.635   Durbin-Watson:                   1.997\n",
      "Prob(Omnibus):                  0.000   Jarque-Bera (JB):             2843.247\n",
      "Skew:                           1.155   Prob(JB):                         0.00\n",
      "Kurtosis:                       4.218   Cond. No.                         38.4\n",
      "==============================================================================\n",
      "\n",
      "Notes:\n",
      "[1] Standard Errors assume that the covariance matrix of the errors is correctly specified.\n"
     ]
    }
   ],
   "source": [
    "_, _, _= ols(df=total_df,\n",
    "             out_name=\"definitionRephrased-signed\",\n",
    "             model_name=\"Llama-2-13b-chat-hf\",\n",
    "             probing_size=64,\n",
    "            )"
   ]
  },
  {
   "cell_type": "markdown",
   "id": "a0458ebf",
   "metadata": {},
   "source": [
    "## Result 3 (instruction rephrased)."
   ]
  },
  {
   "cell_type": "code",
   "execution_count": 9,
   "id": "4474fcf0",
   "metadata": {},
   "outputs": [
    {
     "name": "stdout",
     "output_type": "stream",
     "text": [
      "                            OLS Regression Results                            \n",
      "==============================================================================\n",
      "Dep. Variable:        log_helpfulness   R-squared:                       0.065\n",
      "Model:                            OLS   Adj. R-squared:                  0.065\n",
      "Method:                 Least Squares   F-statistic:                     232.9\n",
      "Date:                Mon, 09 Sep 2024   Prob (F-statistic):          4.32e-146\n",
      "Time:                        19:07:12   Log-Likelihood:                -9770.9\n",
      "No. Observations:               10000   AIC:                         1.955e+04\n",
      "Df Residuals:                    9996   BIC:                         1.958e+04\n",
      "Df Model:                           3                                         \n",
      "Covariance Type:            nonrobust                                         \n",
      "=================================================================================\n",
      "                    coef    std err          t      P>|t|      [0.025      0.975]\n",
      "---------------------------------------------------------------------------------\n",
      "const            -0.4448      0.049     -9.055      0.000      -0.541      -0.348\n",
      "log_num_words     0.2261      0.010     22.672      0.000       0.207       0.246\n",
      "ours             -0.0468      0.008     -5.832      0.000      -0.063      -0.031\n",
      "binary_rating    -0.1457      0.016     -9.174      0.000      -0.177      -0.115\n",
      "==============================================================================\n",
      "Omnibus:                     1715.741   Durbin-Watson:                   1.996\n",
      "Prob(Omnibus):                  0.000   Jarque-Bera (JB):             2837.589\n",
      "Skew:                           1.154   Prob(JB):                         0.00\n",
      "Kurtosis:                       4.219   Cond. No.                         38.9\n",
      "==============================================================================\n",
      "\n",
      "Notes:\n",
      "[1] Standard Errors assume that the covariance matrix of the errors is correctly specified.\n"
     ]
    }
   ],
   "source": [
    "_, _, _ = ols(df=total_df, \n",
    "              out_name=\"instructionRephrased-signed\",\n",
    "              model_name=\"Llama-2-13b-chat-hf\",\n",
    "              probing_size=64,\n",
    "             )"
   ]
  },
  {
   "cell_type": "markdown",
   "id": "3d2bcc8b",
   "metadata": {},
   "source": [
    "## Result 4 (probing size 128)."
   ]
  },
  {
   "cell_type": "code",
   "execution_count": 10,
   "id": "f1e42850",
   "metadata": {},
   "outputs": [
    {
     "name": "stdout",
     "output_type": "stream",
     "text": [
      "                            OLS Regression Results                            \n",
      "==============================================================================\n",
      "Dep. Variable:        log_helpfulness   R-squared:                       0.065\n",
      "Model:                            OLS   Adj. R-squared:                  0.065\n",
      "Method:                 Least Squares   F-statistic:                     232.2\n",
      "Date:                Mon, 09 Sep 2024   Prob (F-statistic):          1.19e-145\n",
      "Time:                        19:07:13   Log-Likelihood:                -9771.9\n",
      "No. Observations:               10000   AIC:                         1.955e+04\n",
      "Df Residuals:                    9996   BIC:                         1.958e+04\n",
      "Df Model:                           3                                         \n",
      "Covariance Type:            nonrobust                                         \n",
      "=================================================================================\n",
      "                    coef    std err          t      P>|t|      [0.025      0.975]\n",
      "---------------------------------------------------------------------------------\n",
      "const            -0.4506      0.050     -9.045      0.000      -0.548      -0.353\n",
      "log_num_words     0.2248      0.010     22.616      0.000       0.205       0.244\n",
      "ours             -0.0432      0.008     -5.654      0.000      -0.058      -0.028\n",
      "binary_rating    -0.1299      0.015     -8.541      0.000      -0.160      -0.100\n",
      "==============================================================================\n",
      "Omnibus:                     1719.330   Durbin-Watson:                   1.998\n",
      "Prob(Omnibus):                  0.000   Jarque-Bera (JB):             2845.016\n",
      "Skew:                           1.156   Prob(JB):                         0.00\n",
      "Kurtosis:                       4.219   Cond. No.                         39.5\n",
      "==============================================================================\n",
      "\n",
      "Notes:\n",
      "[1] Standard Errors assume that the covariance matrix of the errors is correctly specified.\n"
     ]
    }
   ],
   "source": [
    "_,  _, _ = ols(df=total_df, \n",
    "                    out_name=\"original-signed\",\n",
    "                    model_name=\"Llama-2-13b-chat-hf\",\n",
    "                    probing_size=128,\n",
    "                   )"
   ]
  },
  {
   "cell_type": "code",
   "execution_count": null,
   "id": "64af62ad",
   "metadata": {},
   "outputs": [],
   "source": []
  }
 ],
 "metadata": {
  "kernelspec": {
   "display_name": "Python 3 (ipykernel)",
   "language": "python",
   "name": "python3"
  },
  "language_info": {
   "codemirror_mode": {
    "name": "ipython",
    "version": 3
   },
   "file_extension": ".py",
   "mimetype": "text/x-python",
   "name": "python",
   "nbconvert_exporter": "python",
   "pygments_lexer": "ipython3",
   "version": "3.9.13"
  }
 },
 "nbformat": 4,
 "nbformat_minor": 5
}
